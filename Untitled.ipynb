{
 "cells": [
  {
   "cell_type": "code",
   "execution_count": 2,
   "id": "23552b32-1db2-419e-a961-88a6f05c1fbe",
   "metadata": {},
   "outputs": [
    {
     "name": "stdout",
     "output_type": "stream",
     "text": [
      "CWD: D:\\mathbot_project\n",
      "Files here: ['.ipynb_checkpoints', 'app.py', 'db', 'ingest.py', 'pdfs', 'Untitled.ipynb', 'utils.py', '__pycache__']\n",
      "DB folder exists?: True\n",
      "Collection object: math_books\n",
      "\n",
      "Retrieved chunk count: 0\n",
      "\n",
      "--- Prompt preview ---\n",
      "\n",
      "You are a patient expert math tutor. Use ONLY the CONTEXT below (extracted from the student's course books) to answer the QUESTION.\n",
      "Show clear step-by-step calculations and a final boxed answer. Use LaTeX for equations where helpful.\n",
      "\n",
      "CONTEXT:\n",
      "\n",
      "\n",
      "QUESTION:\n",
      "What is the derivative of sin(x)?\n",
      "\n",
      "Answer:\n"
     ]
    }
   ],
   "source": [
    "from utils import query_collection, build_prompt, get_chroma_collection\n",
    "import os\n",
    "\n",
    "question = \"What is the derivative of sin(x)?\"\n",
    "\n",
    "print(\"CWD:\", os.getcwd())\n",
    "print(\"Files here:\", os.listdir(\".\")[:20])\n",
    "print(\"DB folder exists?:\", os.path.exists(\"db\"))\n",
    "\n",
    "# Try accessing chroma\n",
    "client, coll = get_chroma_collection()\n",
    "print(\"Collection object:\", getattr(coll, \"name\", \"unknown\"))\n",
    "\n",
    "docs = query_collection(question, k=3)\n",
    "print(\"\\nRetrieved chunk count:\", len(docs))\n",
    "for i, d in enumerate(docs, start=1):\n",
    "    meta = d.get(\"metadata\") or {}\n",
    "    print(f\"\\n--- Result {i} ---\")\n",
    "    print(\"Source:\", meta.get(\"source\"))\n",
    "    print(\"Chunk:\", meta.get(\"chunk\"))\n",
    "    print(\"Preview:\", d.get(\"document\",\"\")[:300].replace(\"\\n\",\" \"), \"...\")\n",
    "    \n",
    "print(\"\\n--- Prompt preview ---\\n\")\n",
    "print(build_prompt(question, docs)[:800])\n",
    "\n"
   ]
  },
  {
   "cell_type": "code",
   "execution_count": 6,
   "id": "99c44689-0240-42d5-95de-4b1ff35e22f1",
   "metadata": {},
   "outputs": [
    {
     "name": "stdout",
     "output_type": "stream",
     "text": [
      "PDFs: ['calculus.pdf.pdf']\n",
      "Collection count: 82\n"
     ]
    }
   ],
   "source": [
    "from utils import get_chroma_collection\n",
    "import os\n",
    "\n",
    "# check files in pdfs\n",
    "print(\"PDFs:\", os.listdir(\"pdfs\"))\n",
    "\n",
    "# check if collection has docs\n",
    "client, coll = get_chroma_collection()\n",
    "print(\"Collection count:\", coll.count())\n",
    "\n",
    "\n"
   ]
  },
  {
   "cell_type": "code",
   "execution_count": null,
   "id": "3f842d1d-30e6-448c-802e-84c0d1f9257e",
   "metadata": {},
   "outputs": [],
   "source": []
  }
 ],
 "metadata": {
  "kernelspec": {
   "display_name": "Python 3 (ipykernel)",
   "language": "python",
   "name": "python3"
  },
  "language_info": {
   "codemirror_mode": {
    "name": "ipython",
    "version": 3
   },
   "file_extension": ".py",
   "mimetype": "text/x-python",
   "name": "python",
   "nbconvert_exporter": "python",
   "pygments_lexer": "ipython3",
   "version": "3.10.18"
  }
 },
 "nbformat": 4,
 "nbformat_minor": 5
}
